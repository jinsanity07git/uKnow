{
 "cells": [
  {
   "cell_type": "code",
   "execution_count": 1,
   "metadata": {},
   "outputs": [
    {
     "name": "stdout",
     "output_type": "stream",
     "text": [
      "Use default arguments setting \n",
      "1\n"
     ]
    }
   ],
   "source": [
    "#!~/anaconda3/bin/python\n",
    "# -*- coding: utf-8 -*-\n",
    "##规定代码：对接云平台所需的包\n",
    "\n",
    "import json\n",
    "import sys\n",
    "import os\n",
    "\n",
    "import re\n",
    "#规定代码：\n",
    "#n 为开发者配置文件的个数\n",
    "\n",
    "n = 0\n",
    "#k 为输入文件的个数,可以为0\n",
    "#m 为输出文件的个数\n",
    "\n",
    "k = 2\n",
    "\n",
    "m = 1\n",
    "## 读取开发者上传的配置文件，\n",
    "\n",
    "try:\n",
    "## 根据所需文件个数调整相应参数n\n",
    "    # data_file_1 = sys.argv[1]\n",
    "    ## 读取问卷的配置文件\n",
    "    config_data=json.loads(sys.argv[n+1])\n",
    "    print( 'config_data %s' %config_data )\n",
    "    ## 读取用户上传的配置文件\n",
    "    ## 根据所需文件个数调整相应参数n\n",
    "    inputdata01 = sys.argv[n+1+1]\n",
    "    inputdata02 = sys.argv[n+1+k]\n",
    "    # print( 'inputdata %s' %inputdata )\n",
    "    ## 定义输出文件的名称\n",
    "    ## 根据所需文件个数调整相应参数m,现阶段只支持一个输出文件\n",
    "    outdata = sys.argv[n+1+k+m]\n",
    "    print( 'outdata %s' %outdata )\n",
    "    # print (   sys.argv[0] +'\\n'\n",
    "    #         + sys.argv[1] +'\\n'\n",
    "    #         + inputdata   +'\\n'\n",
    "    #         +  outdata    \n",
    "    #         # + '\\n'+scriptpath     \n",
    "    #              )\n",
    "except :\n",
    "    # 用字母排序来区分 数据文件的顺序\n",
    "    # data_file_1 = 'typeIX.json'\n",
    "    # config_data =  '{\"as\" : 11 }'\n",
    "    with open  ('data.json','r') as f:\n",
    "        config_data = json.load(f)\n",
    "    inputdata01   =  '/Users/jinsanity/Documents/uDev/CORSIM仿真器装备集/01parseTRF/output/CapOkland/nw_geo/df_type195.csv'\n",
    "    inputdata02   =  '/Users/jinsanity/Documents/uDev/CORSIM仿真器装备集/data/Milwaukee_node_GIS/Cap_node.geojson'\n",
    "    outdata =  'out_cap2.txt'\n",
    "    # outdata = 'output.txt'\n",
    "    print( 'Use default arguments setting ')\n",
    "#     inputdata, outdata) ) \n",
    "\n",
    "if __name__ == \"__main__\":\n",
    "    import pandas as pd\n",
    "    import io\n",
    "    from coordinate import coordinates_main\n",
    "    ## json file input value\n",
    "    # kwargs = config_data['argv']\n",
    "    input01 = inputdata01\n",
    "    input02 = inputdata02\n",
    "    output01 = outdata\n",
    "    coordinates_main(input01,input02,output01)\n",
    "    # with open(output01,'w') as f:\n",
    "    #     f.write(strhtm2)\n",
    "\n",
    "print(\"1\")\n"
   ]
  }
 ],
 "metadata": {
  "file_extension": ".py",
  "kernelspec": {
   "display_name": "Python 3",
   "language": "python",
   "name": "python3"
  },
  "language_info": {
   "codemirror_mode": {
    "name": "ipython",
    "version": 3
   },
   "file_extension": ".py",
   "mimetype": "text/x-python",
   "name": "python",
   "nbconvert_exporter": "python",
   "pygments_lexer": "ipython3",
   "version": "3.7.1"
  },
  "mimetype": "text/x-python",
  "name": "python",
  "npconvert_exporter": "python",
  "pygments_lexer": "ipython3",
  "version": 3
 },
 "nbformat": 4,
 "nbformat_minor": 2
}
